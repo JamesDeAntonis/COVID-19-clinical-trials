{
 "cells": [
  {
   "cell_type": "code",
   "execution_count": 2,
   "metadata": {},
   "outputs": [],
   "source": [
    "# import os\n",
    "# os.environ['PROJ_LIB'] = '/Users/Jamie/Documents/CUMC Research/'"
   ]
  },
  {
   "cell_type": "code",
   "execution_count": 3,
   "metadata": {},
   "outputs": [],
   "source": [
    "import numpy as np\n",
    "import pandas as pd\n",
    "from pyzipcode import ZipCodeDatabase\n",
    "\n",
    "from sklearn.compose import ColumnTransformer\n",
    "from sklearn.preprocessing import OneHotEncoder\n",
    "\n",
    "from mpl_toolkits.basemap import Basemap\n",
    "from matplotlib import pyplot as plt"
   ]
  },
  {
   "cell_type": "code",
   "execution_count": 4,
   "metadata": {},
   "outputs": [],
   "source": [
    "zcdb = ZipCodeDatabase()"
   ]
  },
  {
   "cell_type": "code",
   "execution_count": 23,
   "metadata": {},
   "outputs": [],
   "source": [
    "crit = pd.read_csv('data/all_criteria_for_azure.csv')\n",
    "zip_codes = pd.read_csv('data/aact_trial_info_for_azure.csv')\n",
    "#                 .assign(zip_codes=lambda z: z.zip_codes.str.split(\"|\"))\n",
    "# zip_codes = pd.DataFrame({'nct_id':np.repeat(zip_codes.nct_id.values, zip_codes.zip_codes.str.len()),\n",
    "#                           'zip_code':np.concatenate(zip_codes.zip_codes.values)}) \\\n",
    "#                 .assign(zip_code=lambda row: row.zip_code.astype(str).str[:5])\n",
    "# zip_codes = pd.DataFrame({'nct_id': np.repeat(zip_codes.nct_id)})\n",
    "#     .assign(zip_codes=lambda row: [z[0:5] for z in row.zip_codes]) \\\n",
    "#     .dropna(axis=0, subset=['zip_codes'])\n",
    "#     .assign(lat=lambda row: [get_lats(row.zip_codes)])"
   ]
  },
  {
   "cell_type": "code",
   "execution_count": 24,
   "metadata": {},
   "outputs": [],
   "source": [
    "def get_lats(codes):\n",
    "    lats = []\n",
    "    for code in codes:\n",
    "        try:\n",
    "            lats.append(zcdb[code].latitude)\n",
    "        except:\n",
    "            continue\n",
    "    return lats\n",
    "\n",
    "def get_lat(code):\n",
    "    try:\n",
    "        lat = zcdb[code].latitude\n",
    "    except IndexError:\n",
    "        lat = np.nan\n",
    "    finally:\n",
    "        return lat\n",
    "    \n",
    "def get_long(code):\n",
    "    try:\n",
    "        long = zcdb[code].longitude\n",
    "    except IndexError:\n",
    "        long = np.nan\n",
    "    finally:\n",
    "        return long\n",
    "\n",
    "def get_city(code):\n",
    "    count = np.nan\n",
    "    try:\n",
    "        count = zcdb[code].city\n",
    "    except IndexError:\n",
    "        count = np.nan\n",
    "    finally:\n",
    "        return count\n",
    "\n",
    "def get_state(code):\n",
    "    try:\n",
    "        stat = zcdb[code].state\n",
    "    except IndexError:\n",
    "        stat = np.nan\n",
    "    finally:\n",
    "        return stat\n",
    "\n",
    "def get_nearby_codes(code, radius=10):  # codes is a single zip code, radius is a number\n",
    "    try:\n",
    "        zips = [z.zip for z in zcdb.get_zipcodes_around_radius(code, radius)]\n",
    "        final = '|'.join(zips)\n",
    "    except:\n",
    "        final = np.nan\n",
    "    finally:\n",
    "        return final"
   ]
  },
  {
   "cell_type": "code",
   "execution_count": 25,
   "metadata": {},
   "outputs": [],
   "source": [
    "# X = pd.DataFrame({'nct_id':np.repeat(info.nct_id.values, info.zip_codes.str.len()),\n",
    "#                   'zip_code':np.concatenate(info.zip_codes.values)})\n",
    "# def get_metrics(df):\n",
    "#     return df \\\n",
    "#             .assign(lat=lambda row: row.zip_code.map(get_lat)) \\\n",
    "#             .assign(long=lambda row: row.zip_code.map(get_long)) \\\n",
    "#             .assign(city=lambda row: row.zip_code.map(get_city)) \\\n",
    "#             .assign(state=lambda row: row.zip_code.map(get_state)) \\\n",
    "#             .dropna()"
   ]
  },
  {
   "cell_type": "code",
   "execution_count": 26,
   "metadata": {},
   "outputs": [],
   "source": [
    "# fzip_codes  # get nct_id -> nct_id mapping"
   ]
  },
  {
   "cell_type": "code",
   "execution_count": 27,
   "metadata": {},
   "outputs": [],
   "source": [
    "# Y = X.assign(nearby_zips=lambda row: row.zip_code.map(get_nearby_codes)) \\\n",
    "#         .assign(nearby_zips=lambda row: row.nearby_zips.str.split(\"|\"))\n",
    "# Z = pd.DataFrame({'nct_id': np.repeat(Y.nct_id.values, Y.nearby_zips.str.len()),\n",
    "#                   'zip_code': np.repeat(Y.zip_code.values, Y.nearby_zips.str.len()),\n",
    "#                   'nearby_zips': np.concatenate(Y.nearby_zips.values)})"
   ]
  },
  {
   "cell_type": "code",
   "execution_count": null,
   "metadata": {},
   "outputs": [],
   "source": []
  },
  {
   "cell_type": "code",
   "execution_count": null,
   "metadata": {},
   "outputs": [],
   "source": []
  },
  {
   "cell_type": "code",
   "execution_count": null,
   "metadata": {},
   "outputs": [],
   "source": []
  },
  {
   "cell_type": "code",
   "execution_count": 28,
   "metadata": {},
   "outputs": [],
   "source": [
    "# from urllib.request import urlopen\n",
    "# import json\n",
    "# # with urlopen('https://raw.githubusercontent.com/plotly/datasets/master/geojson-counties-fips.json') as response:\n",
    "# #     counties = json.load(response)\n",
    "\n",
    "# # import pandas as pd\n",
    "# # df = pd.read_csv(\"https://raw.githubusercontent.com/plotly/datasets/master/fips-unemp-16.csv\",\n",
    "# #                    dtype={\"fips\": str})\n",
    "\n",
    "# import plotly.express as px\n",
    "\n",
    "# fig = px.choropleth(X, locations='state', color='lat', # geojson=states, \n",
    "#                            color_continuous_scale=\"Viridis\",\n",
    "#                            range_color=(0, 12),\n",
    "#                            scope=\"usa\",\n",
    "#                            labels={'unemp':'unemployment rate'}\n",
    "#                           )\n",
    "# fig.update_layout(margin={\"r\":0,\"t\":0,\"l\":0,\"b\":0})\n",
    "# fig.show()"
   ]
  },
  {
   "cell_type": "code",
   "execution_count": 29,
   "metadata": {},
   "outputs": [],
   "source": [
    "# Y = pd.get_dummies(crit[['nct_id', 'concept_name', 'domain', 'is_exclusion']] \\\n",
    "#                         .join(zip_codes[['nct_id']].set_index('nct_id'), on='nct_id', how='left'),\n",
    "#                    columns=['concept_name']) \\\n",
    "#       .drop(labels=['domain'], axis=1)\n",
    "\n",
    "Y = pd.get_dummies(crit[['nct_id', 'is_exclusion', 'concept_name']], columns=['concept_name'])\n",
    "\n",
    "def get_aggregation(df):\n",
    "    return df \\\n",
    "            .drop(labels=['is_exclusion'], axis=1) \\\n",
    "            .groupby(by=['nct_id'], axis=0) \\\n",
    "            .aggregate(func=np.sum)\n",
    "\n",
    "exc = get_aggregation(Y[Y['is_exclusion'] == 1])\n",
    "inc = get_aggregation(Y[Y['is_exclusion'] == 0])\n",
    "\n",
    "Z = pd.merge(exc, inc, on='nct_id', how='outer', suffixes=('_exc', '_inc')) \\\n",
    "        .fillna(0)\n",
    "\n",
    "assert exc.to_numpy().sum() + inc.to_numpy().sum() == crit.shape[0]  # still have same number of criteria?\n",
    "assert Z.to_numpy().sum() == crit.shape[0]"
   ]
  },
  {
   "cell_type": "code",
   "execution_count": 30,
   "metadata": {},
   "outputs": [],
   "source": [
    "def compute_similarity(a, b):\n",
    "    x = np.where(Z.loc[a] != 0, 1, 0)\n",
    "    y = np.where(Z.loc[b] != 0, 1, 0)\n",
    "    return np.sum(x * y) / np.sum(x)\n",
    "\n",
    "def similarity_main(series_a, series_b):  # not a good way to do this; takes a while\n",
    "    temp = []\n",
    "    for a, b in zip(series_a, series_b):\n",
    "        try:\n",
    "            temp.append(compute_similarity(a, b))\n",
    "        except:\n",
    "            temp.append(np.nan)\n",
    "    return pd.Series(temp)\n",
    "\n",
    "index = pd.MultiIndex.from_product([pd.unique(zip_codes.nct_id), pd.unique(zip_codes.nct_id)],\n",
    "                                   names = [\"trial_a\", \"trial_b\"])\n",
    "index = pd.DataFrame(index=index).reset_index()\n",
    "index = index.assign(similarity = similarity_main(index.trial_a, index.trial_b))\n",
    "#             .assign(similarity = lambda row: compute_similarity(row.trial_a, row.trial_b))"
   ]
  },
  {
   "cell_type": "code",
   "execution_count": 31,
   "metadata": {},
   "outputs": [
    {
     "data": {
      "text/html": [
       "<div>\n",
       "<style scoped>\n",
       "    .dataframe tbody tr th:only-of-type {\n",
       "        vertical-align: middle;\n",
       "    }\n",
       "\n",
       "    .dataframe tbody tr th {\n",
       "        vertical-align: top;\n",
       "    }\n",
       "\n",
       "    .dataframe thead th {\n",
       "        text-align: right;\n",
       "    }\n",
       "</style>\n",
       "<table border=\"1\" class=\"dataframe\">\n",
       "  <thead>\n",
       "    <tr style=\"text-align: right;\">\n",
       "      <th>trial_b</th>\n",
       "      <th>NCT03648372</th>\n",
       "      <th>NCT03808922</th>\n",
       "      <th>NCT03852537</th>\n",
       "      <th>NCT04278404</th>\n",
       "      <th>NCT04280705</th>\n",
       "    </tr>\n",
       "    <tr>\n",
       "      <th>trial_a</th>\n",
       "      <th></th>\n",
       "      <th></th>\n",
       "      <th></th>\n",
       "      <th></th>\n",
       "      <th></th>\n",
       "    </tr>\n",
       "  </thead>\n",
       "  <tbody>\n",
       "    <tr>\n",
       "      <th>NCT03648372</th>\n",
       "      <td>1.000000</td>\n",
       "      <td>0.145455</td>\n",
       "      <td>0.036364</td>\n",
       "      <td>0.000000</td>\n",
       "      <td>0.018182</td>\n",
       "    </tr>\n",
       "    <tr>\n",
       "      <th>NCT03808922</th>\n",
       "      <td>0.137931</td>\n",
       "      <td>1.000000</td>\n",
       "      <td>0.034483</td>\n",
       "      <td>0.000000</td>\n",
       "      <td>0.103448</td>\n",
       "    </tr>\n",
       "    <tr>\n",
       "      <th>NCT03852537</th>\n",
       "      <td>0.105263</td>\n",
       "      <td>0.105263</td>\n",
       "      <td>1.000000</td>\n",
       "      <td>0.000000</td>\n",
       "      <td>0.000000</td>\n",
       "    </tr>\n",
       "    <tr>\n",
       "      <th>NCT04278404</th>\n",
       "      <td>0.000000</td>\n",
       "      <td>0.000000</td>\n",
       "      <td>0.000000</td>\n",
       "      <td>1.000000</td>\n",
       "      <td>0.125000</td>\n",
       "    </tr>\n",
       "    <tr>\n",
       "      <th>NCT04280705</th>\n",
       "      <td>0.076923</td>\n",
       "      <td>0.461538</td>\n",
       "      <td>0.000000</td>\n",
       "      <td>0.076923</td>\n",
       "      <td>1.000000</td>\n",
       "    </tr>\n",
       "  </tbody>\n",
       "</table>\n",
       "</div>"
      ],
      "text/plain": [
       "trial_b      NCT03648372  NCT03808922  NCT03852537  NCT04278404  NCT04280705\n",
       "trial_a                                                                     \n",
       "NCT03648372     1.000000     0.145455     0.036364     0.000000     0.018182\n",
       "NCT03808922     0.137931     1.000000     0.034483     0.000000     0.103448\n",
       "NCT03852537     0.105263     0.105263     1.000000     0.000000     0.000000\n",
       "NCT04278404     0.000000     0.000000     0.000000     1.000000     0.125000\n",
       "NCT04280705     0.076923     0.461538     0.000000     0.076923     1.000000"
      ]
     },
     "execution_count": 31,
     "metadata": {},
     "output_type": "execute_result"
    }
   ],
   "source": [
    "index.pivot('trial_a', 'trial_b', 'similarity').iloc[1:6, 1:6]  # final"
   ]
  },
  {
   "cell_type": "code",
   "execution_count": null,
   "metadata": {},
   "outputs": [],
   "source": []
  },
  {
   "cell_type": "code",
   "execution_count": 54,
   "metadata": {},
   "outputs": [],
   "source": [
    "# import geopandas\n",
    "# import shapely\n",
    "# import shapefile\n",
    "# import plotly\n",
    "# from plotly.figure_factory import create_choropleth\n",
    "# # import xlrd\n",
    "\n",
    "# # import plotly.figure_factory as ff\n",
    "# # import geopandas\n",
    "\n",
    "# fips = ['06021', '06023', '06027',\n",
    "#         '06029', '06033', '06059',\n",
    "#         '06047', '06049', '06051',\n",
    "#         '06055', '06061']\n",
    "# values = range(len(fips))\n",
    "\n",
    "# fig = create_choropleth(fips=fips, values=values)\n",
    "# fig.layout.template = None\n",
    "# fig.show()"
   ]
  },
  {
   "cell_type": "code",
   "execution_count": null,
   "metadata": {},
   "outputs": [],
   "source": []
  },
  {
   "cell_type": "code",
   "execution_count": null,
   "metadata": {},
   "outputs": [],
   "source": []
  },
  {
   "cell_type": "code",
   "execution_count": null,
   "metadata": {},
   "outputs": [],
   "source": []
  },
  {
   "cell_type": "code",
   "execution_count": null,
   "metadata": {},
   "outputs": [],
   "source": []
  },
  {
   "cell_type": "code",
   "execution_count": null,
   "metadata": {},
   "outputs": [],
   "source": []
  },
  {
   "cell_type": "code",
   "execution_count": null,
   "metadata": {},
   "outputs": [],
   "source": []
  },
  {
   "cell_type": "code",
   "execution_count": null,
   "metadata": {},
   "outputs": [],
   "source": []
  },
  {
   "cell_type": "code",
   "execution_count": null,
   "metadata": {},
   "outputs": [],
   "source": []
  }
 ],
 "metadata": {
  "kernelspec": {
   "display_name": "CUMC",
   "language": "python",
   "name": "myenv"
  },
  "language_info": {
   "codemirror_mode": {
    "name": "ipython",
    "version": 3
   },
   "file_extension": ".py",
   "mimetype": "text/x-python",
   "name": "python",
   "nbconvert_exporter": "python",
   "pygments_lexer": "ipython3",
   "version": "3.6.2"
  }
 },
 "nbformat": 4,
 "nbformat_minor": 4
}
